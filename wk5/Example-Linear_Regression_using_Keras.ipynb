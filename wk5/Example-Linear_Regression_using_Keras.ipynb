{
 "cells": [
  {
   "cell_type": "markdown",
   "metadata": {},
   "source": [
    "# <font style=\"color:rgb(50,120,229)\">Linear Regression using Keras</font>\n",
    "\n",
    "In this chapter, we will show an example of using a Neural Network for predicting housing prices. The same problem can be solved using a technique called **Linear Regression**. But, we will see how we can use a simple network to perform the same task.\n",
    "\n",
    "But before going into that, let's look at what Linear Regression is and the problem we want to solve."
   ]
  },
  {
   "cell_type": "markdown",
   "metadata": {},
   "source": [
    "# <font style=\"color:rgb(50,120,229)\">What is Linear regression?</font>\n",
    "<img src=\"https://www.learnopencv.com/wp-content/uploads/2018/02/cv4faces-mod10-ch2-linreg-example.png\" width=\"600\">\n",
    "Linear regression is a linear approach to model the relationship between two variables. For example, the values on the x axis are independent variables ( normaly referred to as Samples ), and the values on y axis are dependent variables ( also known as Target). In the figure above, there are 5 points. We want to find a straight line which will minimize the sum of all errors ( shown by arrows in the above figure ). We want to find the slope of the line with the least error. Once, we are able to model the given data points, we can predict the value on y axis, for a new point on x axis.\n",
    "\n",
    "We will learn how to create a simple network with a single layer to perform linear regression. We will use the [**Boston Housing dataset**](https://www.cs.toronto.edu/~delve/data/boston/bostonDetail.html) available in Keras as an example. Samples contain 13 attributes of houses at different locations around the Boston suburbs in the late 1970s. Some example attributes are: average number of rooms, crime rate etc. You can find the complete list of attributes [**here**](https://www.cs.toronto.edu/~delve/data/boston/bostonDetail.html). \n",
    "\n",
    "The 13 attributes become our 13-dimensional independent variable. Targets are the median values of the houses at a location (in k$). With the 13 features, we have to train the model which would predict the price of the house in the test data.\n",
    "\n",
    "A schematic diagram of the network we want to create is given below"
   ]
  },
  {
   "cell_type": "markdown",
   "metadata": {
    "colab_type": "text",
    "id": "k92LeQuVa2LY"
   },
   "source": [
    "<img src=\"https://www.learnopencv.com/wp-content/uploads/2019/12/regression-keras-schema.png\" width=\"400\">"
   ]
  },
  {
   "cell_type": "markdown",
   "metadata": {
    "colab_type": "text",
    "id": "ofK45QbocRRr"
   },
   "source": [
    "# <font style=\"color:rgb(50,120,229)\">Training</font>\n",
    "The purpose of training is to find the weights (w0 to w12) and bias (b) for which the network produces the correct output by looking at the input data. We say that the network is trained when the error between the predicted output and ground truth becomes very low and does not decrease further. We can then use these weights to predict the output for any new data.\n",
    "\n",
    "The network consists just one neuron. We use the Sequential model to create the network graph. Then we add a Dense layer with the number of inputs equal to the number of features in the data (13 in this case) and a single output. Then we follow the workflow as explained in the previous section, i.e. We compile the model and train it using the `fit` method. \n",
    "\n",
    "All keras datasets come with a `load_data()` function which returns tuples of training and testing data as shown in the code."
   ]
  },
  {
   "cell_type": "code",
   "execution_count": 1,
   "metadata": {
    "colab": {
     "base_uri": "https://localhost:8080/",
     "height": 187
    },
    "colab_type": "code",
    "id": "BYOInJk5Wrh5",
    "outputId": "265a7510-d56f-4ff5-dbd4-5045edab989d"
   },
   "outputs": [
    {
     "name": "stdout",
     "output_type": "stream",
     "text": [
      "Training set size:  (404, 13)\n",
      "Test set size:  (102, 13)\n",
      "Training example features:  [  1.23247   0.        8.14      0.        0.538     6.142    91.7\n",
      "   3.9769    4.      307.       21.      396.9      18.72   ]\n",
      "Training example output:  15.2\n"
     ]
    }
   ],
   "source": [
    "from tensorflow.keras.models import Sequential\n",
    "from tensorflow.keras.layers import Dense\n",
    "from tensorflow.keras.datasets import boston_housing\n",
    " \n",
    "(X_train, Y_train), (X_test, Y_test) = boston_housing.load_data()\n",
    "\n",
    "print(\"Training set size: \", X_train.shape)\n",
    "print(\"Test set size: \", X_test.shape)\n",
    "print(\"Training example features: \", X_train[0,:])\n",
    "print(\"Training example output: \", Y_train[0])\n",
    "\n",
    "nFeatures = X_train.shape[1]\n",
    "\n",
    "model = Sequential()\n",
    "model.add(Dense(1, input_shape=(nFeatures,), activation='linear'))\n",
    " \n",
    "model.compile(optimizer='rmsprop', loss='mse', metrics=['mse', 'mae'])"
   ]
  },
  {
   "cell_type": "code",
   "execution_count": 2,
   "metadata": {},
   "outputs": [
    {
     "name": "stdout",
     "output_type": "stream",
     "text": [
      "2.0.0\n"
     ]
    }
   ],
   "source": [
    "import tensorflow as tf\n",
    "print(tf.__version__)"
   ]
  },
  {
   "cell_type": "markdown",
   "metadata": {},
   "source": [
    "The output of `model.summary()` is given below. It shows 14 parameters - 13 parameters for the weights and 1 for the bias."
   ]
  },
  {
   "cell_type": "code",
   "execution_count": 3,
   "metadata": {
    "colab": {
     "base_uri": "https://localhost:8080/",
     "height": 187
    },
    "colab_type": "code",
    "id": "BYOInJk5Wrh5",
    "outputId": "265a7510-d56f-4ff5-dbd4-5045edab989d"
   },
   "outputs": [
    {
     "name": "stdout",
     "output_type": "stream",
     "text": [
      "Model: \"sequential\"\n",
      "_________________________________________________________________\n",
      "Layer (type)                 Output Shape              Param #   \n",
      "=================================================================\n",
      "dense (Dense)                (None, 1)                 14        \n",
      "=================================================================\n",
      "Total params: 14\n",
      "Trainable params: 14\n",
      "Non-trainable params: 0\n",
      "_________________________________________________________________\n"
     ]
    }
   ],
   "source": [
    "model.summary()"
   ]
  },
  {
   "cell_type": "code",
   "execution_count": 4,
   "metadata": {
    "colab": {
     "base_uri": "https://localhost:8080/",
     "height": 1000
    },
    "colab_type": "code",
    "id": "mmQWKikcdFaL",
    "outputId": "32db5041-a6dc-45fc-f792-e08721d8b852"
   },
   "outputs": [
    {
     "data": {
      "text/plain": [
       "<tensorflow.python.keras.callbacks.History at 0x7f00e8799e50>"
      ]
     },
     "execution_count": 4,
     "metadata": {},
     "output_type": "execute_result"
    }
   ],
   "source": [
    "# To see detail output, change verbose to True\n",
    "model.fit(X_train, Y_train, batch_size=4, epochs=1000, verbose=False)"
   ]
  },
  {
   "cell_type": "markdown",
   "metadata": {
    "colab_type": "text",
    "id": "AbiO2205cnZB"
   },
   "source": [
    "# <font style=\"color:rgb(50,120,229)\">Inference</font>\n",
    "After the model has been trained, we want to perform inference on the test data. We can find the loss on the test data using the `model.evaluate()` function."
   ]
  },
  {
   "cell_type": "code",
   "execution_count": 5,
   "metadata": {
    "colab": {
     "base_uri": "https://localhost:8080/",
     "height": 71
    },
    "colab_type": "code",
    "id": "E3x9CDDBcKFu",
    "outputId": "7b94d8a7-6807-48e6-8aef-c4442ccd0d03"
   },
   "outputs": [
    {
     "data": {
      "text/plain": [
       "[24.101493536257276, 24.101494, 3.5698843]"
      ]
     },
     "execution_count": 5,
     "metadata": {},
     "output_type": "execute_result"
    }
   ],
   "source": [
    "# To see detail output, change verbose to True\n",
    "# returns loss, metrics as speficfied in compilation step so it returns mse, mse and mae.\n",
    "model.evaluate(X_test, Y_test, verbose=False)"
   ]
  },
  {
   "cell_type": "markdown",
   "metadata": {},
   "source": [
    "We get the predictions on test data using the `model.predict()` function. Here we compare the ground truth values with the predictions from our model for the first 5 test samples."
   ]
  },
  {
   "cell_type": "code",
   "execution_count": 6,
   "metadata": {
    "colab": {
     "base_uri": "https://localhost:8080/",
     "height": 51
    },
    "colab_type": "code",
    "id": "o6oiXXwCv59_",
    "outputId": "d132288d-8f88-43a7-cf20-7a611ee42371"
   },
   "outputs": [
    {
     "name": "stdout",
     "output_type": "stream",
     "text": [
      "[ 7.2 18.8 19.  27.  22.2]\n",
      "[ 6.7474775 17.898502  21.201483  28.910046  23.517996 ]\n"
     ]
    }
   ],
   "source": [
    "Y_pred = model.predict(X_test)\n",
    " \n",
    "print(Y_test[:5])\n",
    "print(Y_pred[:5,0])"
   ]
  },
  {
   "cell_type": "markdown",
   "metadata": {
    "colab": {},
    "colab_type": "code",
    "id": "Kx3iqjWGwAYn"
   },
   "source": [
    "It can be seen that the predictions follow the ground truth values, but there are some errors in the predictions.\n",
    "\n",
    "The major take-away from this introduction is the simple Keras Workflow for creating and training Neural networks. There might be some more pre and post processing steps involved, depending on the problem at hand. But, the core process remains the same."
   ]
  }
 ],
 "metadata": {
  "colab": {
   "name": "Introduction to keras",
   "provenance": []
  },
  "kernelspec": {
   "display_name": "Python 3",
   "language": "python",
   "name": "python3"
  },
  "language_info": {
   "codemirror_mode": {
    "name": "ipython",
    "version": 3
   },
   "file_extension": ".py",
   "mimetype": "text/x-python",
   "name": "python",
   "nbconvert_exporter": "python",
   "pygments_lexer": "ipython3",
   "version": "3.7.4"
  }
 },
 "nbformat": 4,
 "nbformat_minor": 1
}
